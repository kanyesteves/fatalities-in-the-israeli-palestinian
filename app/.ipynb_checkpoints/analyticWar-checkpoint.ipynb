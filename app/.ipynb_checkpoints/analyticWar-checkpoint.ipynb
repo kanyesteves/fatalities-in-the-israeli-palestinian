{
 "cells": [
  {
   "cell_type": "markdown",
   "id": "459c49a4-8ead-4862-b594-d1affcea1686",
   "metadata": {},
   "source": [
    "# Análise da fonte de dados"
   ]
  },
  {
   "cell_type": "markdown",
   "id": "30d40405-2a8c-412f-9d4f-4295fee3569e",
   "metadata": {},
   "source": [
    "## Importando módulos:"
   ]
  },
  {
   "cell_type": "code",
   "execution_count": 69,
   "id": "fc66f0ae-5edf-4a05-a6ba-1543ae3cfd11",
   "metadata": {},
   "outputs": [
    {
     "name": "stdout",
     "output_type": "stream",
     "text": [
      "Bibliotecas importadas com sucesso !!\n"
     ]
    }
   ],
   "source": [
    "import pandas as pd\n",
    "import plotly.express as px\n",
    "\n",
    "print(\"Bibliotecas importadas com sucesso !!\")"
   ]
  },
  {
   "cell_type": "markdown",
   "id": "1a513d39-f210-4424-9424-7cb1e4c305f6",
   "metadata": {},
   "source": [
    "## Carregando dados:"
   ]
  },
  {
   "cell_type": "markdown",
   "id": "a9f10194-8881-42a8-a097-8e2246faadec",
   "metadata": {},
   "source": [
    "Está fonte de dados está disponível no link abaixo:\n",
    "\n",
    "- [Fatalidades no conflito de Israel e Palestina](https://www.kaggle.com/datasets/willianoliveiragibin/fatalities-in-the-israeli-palestinian)"
   ]
  },
  {
   "cell_type": "code",
   "execution_count": 70,
   "id": "16aab216-3638-4db5-9421-9acd35600754",
   "metadata": {},
   "outputs": [
    {
     "name": "stdout",
     "output_type": "stream",
     "text": [
      "Dataframe carregado com sucesso !!\n"
     ]
    }
   ],
   "source": [
    "file = \"../datasets/fatalities_isr_pse_conflict_2000_to_2023.csv\"\n",
    "df = pd.read_csv(file)\n",
    "\n",
    "print(\"Dataframe carregado com sucesso !!\")"
   ]
  },
  {
   "cell_type": "markdown",
   "id": "908f5237-dea1-42cc-8a7d-5464759204de",
   "metadata": {},
   "source": [
    "#### Visualizando DataFrame"
   ]
  },
  {
   "cell_type": "code",
   "execution_count": 71,
   "id": "0346dc35-64a3-4aba-8a6e-2212fb587e19",
   "metadata": {},
   "outputs": [
    {
     "data": {
      "text/html": [
       "<div>\n",
       "<style scoped>\n",
       "    .dataframe tbody tr th:only-of-type {\n",
       "        vertical-align: middle;\n",
       "    }\n",
       "\n",
       "    .dataframe tbody tr th {\n",
       "        vertical-align: top;\n",
       "    }\n",
       "\n",
       "    .dataframe thead th {\n",
       "        text-align: right;\n",
       "    }\n",
       "</style>\n",
       "<table border=\"1\" class=\"dataframe\">\n",
       "  <thead>\n",
       "    <tr style=\"text-align: right;\">\n",
       "      <th></th>\n",
       "      <th>name</th>\n",
       "      <th>date_of_event</th>\n",
       "      <th>age</th>\n",
       "      <th>citizenship</th>\n",
       "      <th>event_location</th>\n",
       "      <th>event_location_district</th>\n",
       "      <th>event_location_region</th>\n",
       "      <th>date_of_death</th>\n",
       "      <th>gender</th>\n",
       "      <th>took_part_in_the_hostilities</th>\n",
       "      <th>place_of_residence</th>\n",
       "      <th>place_of_residence_district</th>\n",
       "      <th>type_of_injury</th>\n",
       "      <th>ammunition</th>\n",
       "      <th>killed_by</th>\n",
       "      <th>notes</th>\n",
       "    </tr>\n",
       "  </thead>\n",
       "  <tbody>\n",
       "    <tr>\n",
       "      <th>0</th>\n",
       "      <td>'Abd a-Rahman Suleiman Muhammad Abu Daghash</td>\n",
       "      <td>2023-09-24</td>\n",
       "      <td>32.0</td>\n",
       "      <td>Palestinian</td>\n",
       "      <td>Nur Shams R.C.</td>\n",
       "      <td>Tulkarm</td>\n",
       "      <td>West Bank</td>\n",
       "      <td>2023-09-24</td>\n",
       "      <td>M</td>\n",
       "      <td>NaN</td>\n",
       "      <td>Nur Shams R.C.</td>\n",
       "      <td>Tulkarm</td>\n",
       "      <td>gunfire</td>\n",
       "      <td>live ammunition</td>\n",
       "      <td>Israeli security forces</td>\n",
       "      <td>Fatally shot by Israeli forces while standing ...</td>\n",
       "    </tr>\n",
       "    <tr>\n",
       "      <th>1</th>\n",
       "      <td>Usayed Farhan Muhammad 'Ali Abu 'Ali</td>\n",
       "      <td>2023-09-24</td>\n",
       "      <td>21.0</td>\n",
       "      <td>Palestinian</td>\n",
       "      <td>Nur Shams R.C.</td>\n",
       "      <td>Tulkarm</td>\n",
       "      <td>West Bank</td>\n",
       "      <td>2023-09-24</td>\n",
       "      <td>M</td>\n",
       "      <td>NaN</td>\n",
       "      <td>Nur Shams R.C.</td>\n",
       "      <td>Tulkarm</td>\n",
       "      <td>gunfire</td>\n",
       "      <td>live ammunition</td>\n",
       "      <td>Israeli security forces</td>\n",
       "      <td>Fatally shot by Israeli forces while trying to...</td>\n",
       "    </tr>\n",
       "    <tr>\n",
       "      <th>2</th>\n",
       "      <td>'Abdallah 'Imad Sa'ed Abu Hassan</td>\n",
       "      <td>2023-09-22</td>\n",
       "      <td>16.0</td>\n",
       "      <td>Palestinian</td>\n",
       "      <td>Kfar Dan</td>\n",
       "      <td>Jenin</td>\n",
       "      <td>West Bank</td>\n",
       "      <td>2023-09-22</td>\n",
       "      <td>M</td>\n",
       "      <td>NaN</td>\n",
       "      <td>al-Yamun</td>\n",
       "      <td>Jenin</td>\n",
       "      <td>gunfire</td>\n",
       "      <td>live ammunition</td>\n",
       "      <td>Israeli security forces</td>\n",
       "      <td>Fatally shot by soldiers while firing at them ...</td>\n",
       "    </tr>\n",
       "    <tr>\n",
       "      <th>3</th>\n",
       "      <td>Durgham Muhammad Yihya al-Akhras</td>\n",
       "      <td>2023-09-20</td>\n",
       "      <td>19.0</td>\n",
       "      <td>Palestinian</td>\n",
       "      <td>'Aqbat Jaber R.C.</td>\n",
       "      <td>Jericho</td>\n",
       "      <td>West Bank</td>\n",
       "      <td>2023-09-20</td>\n",
       "      <td>M</td>\n",
       "      <td>NaN</td>\n",
       "      <td>'Aqbat Jaber R.C.</td>\n",
       "      <td>Jericho</td>\n",
       "      <td>gunfire</td>\n",
       "      <td>live ammunition</td>\n",
       "      <td>Israeli security forces</td>\n",
       "      <td>Shot in the head by Israeli forces while throw...</td>\n",
       "    </tr>\n",
       "    <tr>\n",
       "      <th>4</th>\n",
       "      <td>Raafat 'Omar Ahmad Khamaisah</td>\n",
       "      <td>2023-09-19</td>\n",
       "      <td>15.0</td>\n",
       "      <td>Palestinian</td>\n",
       "      <td>Jenin R.C.</td>\n",
       "      <td>Jenin</td>\n",
       "      <td>West Bank</td>\n",
       "      <td>2023-09-19</td>\n",
       "      <td>M</td>\n",
       "      <td>NaN</td>\n",
       "      <td>Jenin</td>\n",
       "      <td>Jenin</td>\n",
       "      <td>gunfire</td>\n",
       "      <td>live ammunition</td>\n",
       "      <td>Israeli security forces</td>\n",
       "      <td>Wounded by soldiers’ gunfire after running awa...</td>\n",
       "    </tr>\n",
       "  </tbody>\n",
       "</table>\n",
       "</div>"
      ],
      "text/plain": [
       "                                          name date_of_event   age  \\\n",
       "0  'Abd a-Rahman Suleiman Muhammad Abu Daghash    2023-09-24  32.0   \n",
       "1         Usayed Farhan Muhammad 'Ali Abu 'Ali    2023-09-24  21.0   \n",
       "2             'Abdallah 'Imad Sa'ed Abu Hassan    2023-09-22  16.0   \n",
       "3             Durgham Muhammad Yihya al-Akhras    2023-09-20  19.0   \n",
       "4                 Raafat 'Omar Ahmad Khamaisah    2023-09-19  15.0   \n",
       "\n",
       "   citizenship     event_location event_location_district  \\\n",
       "0  Palestinian     Nur Shams R.C.                 Tulkarm   \n",
       "1  Palestinian     Nur Shams R.C.                 Tulkarm   \n",
       "2  Palestinian           Kfar Dan                   Jenin   \n",
       "3  Palestinian  'Aqbat Jaber R.C.                 Jericho   \n",
       "4  Palestinian         Jenin R.C.                   Jenin   \n",
       "\n",
       "  event_location_region date_of_death gender took_part_in_the_hostilities  \\\n",
       "0             West Bank    2023-09-24      M                          NaN   \n",
       "1             West Bank    2023-09-24      M                          NaN   \n",
       "2             West Bank    2023-09-22      M                          NaN   \n",
       "3             West Bank    2023-09-20      M                          NaN   \n",
       "4             West Bank    2023-09-19      M                          NaN   \n",
       "\n",
       "  place_of_residence place_of_residence_district type_of_injury  \\\n",
       "0     Nur Shams R.C.                     Tulkarm        gunfire   \n",
       "1     Nur Shams R.C.                     Tulkarm        gunfire   \n",
       "2           al-Yamun                       Jenin        gunfire   \n",
       "3  'Aqbat Jaber R.C.                     Jericho        gunfire   \n",
       "4              Jenin                       Jenin        gunfire   \n",
       "\n",
       "        ammunition                killed_by  \\\n",
       "0  live ammunition  Israeli security forces   \n",
       "1  live ammunition  Israeli security forces   \n",
       "2  live ammunition  Israeli security forces   \n",
       "3  live ammunition  Israeli security forces   \n",
       "4  live ammunition  Israeli security forces   \n",
       "\n",
       "                                               notes  \n",
       "0  Fatally shot by Israeli forces while standing ...  \n",
       "1  Fatally shot by Israeli forces while trying to...  \n",
       "2  Fatally shot by soldiers while firing at them ...  \n",
       "3  Shot in the head by Israeli forces while throw...  \n",
       "4  Wounded by soldiers’ gunfire after running awa...  "
      ]
     },
     "execution_count": 71,
     "metadata": {},
     "output_type": "execute_result"
    }
   ],
   "source": [
    "df.head()"
   ]
  },
  {
   "cell_type": "markdown",
   "id": "20cf1cde-a843-4d62-8f1b-1be39f460aa3",
   "metadata": {},
   "source": [
    "### Colunas que contém no dataframe:"
   ]
  },
  {
   "cell_type": "code",
   "execution_count": 72,
   "id": "1a3f31f2-64d8-4c74-ad17-7b38889350db",
   "metadata": {},
   "outputs": [
    {
     "data": {
      "text/plain": [
       "0                             name\n",
       "1                    date_of_event\n",
       "2                              age\n",
       "3                      citizenship\n",
       "4                   event_location\n",
       "5          event_location_district\n",
       "6            event_location_region\n",
       "7                    date_of_death\n",
       "8                           gender\n",
       "9     took_part_in_the_hostilities\n",
       "10              place_of_residence\n",
       "11     place_of_residence_district\n",
       "12                  type_of_injury\n",
       "13                      ammunition\n",
       "14                       killed_by\n",
       "15                           notes\n",
       "dtype: object"
      ]
     },
     "metadata": {},
     "output_type": "display_data"
    }
   ],
   "source": [
    "columns = df.columns\n",
    "columns_df = pd.Series(columns)\n",
    "\n",
    "display(columns_df)"
   ]
  },
  {
   "cell_type": "markdown",
   "id": "8f16f11c-e46c-497e-9317-5ef7c2ccfdb3",
   "metadata": {},
   "source": [
    "#### Colunas que vamos utilizar:\n",
    "\n",
    " - **Name**: Nome.\n",
    " - **Age**: Idade.\n",
    " - **Citizenship**: Cidadania.\n",
    " - **Event_location**: Local do evento.\n",
    " - **Event_location_district**: Distrito.\n",
    " - **Event_location_region**: Região.\n",
    " - **Date_of_death**: Data da morte.\n",
    " - **Gender**: Gênero."
   ]
  },
  {
   "cell_type": "code",
   "execution_count": 73,
   "id": "5030cb1b-2093-4e3d-8b95-43dfb5154310",
   "metadata": {},
   "outputs": [
    {
     "data": {
      "text/html": [
       "<div>\n",
       "<style scoped>\n",
       "    .dataframe tbody tr th:only-of-type {\n",
       "        vertical-align: middle;\n",
       "    }\n",
       "\n",
       "    .dataframe tbody tr th {\n",
       "        vertical-align: top;\n",
       "    }\n",
       "\n",
       "    .dataframe thead th {\n",
       "        text-align: right;\n",
       "    }\n",
       "</style>\n",
       "<table border=\"1\" class=\"dataframe\">\n",
       "  <thead>\n",
       "    <tr style=\"text-align: right;\">\n",
       "      <th></th>\n",
       "      <th>name</th>\n",
       "      <th>age</th>\n",
       "      <th>citizenship</th>\n",
       "      <th>gender</th>\n",
       "      <th>date_of_death</th>\n",
       "      <th>event_location</th>\n",
       "      <th>event_location_district</th>\n",
       "      <th>event_location_region</th>\n",
       "    </tr>\n",
       "  </thead>\n",
       "  <tbody>\n",
       "    <tr>\n",
       "      <th>0</th>\n",
       "      <td>'Abd a-Rahman Suleiman Muhammad Abu Daghash</td>\n",
       "      <td>32.0</td>\n",
       "      <td>Palestinian</td>\n",
       "      <td>M</td>\n",
       "      <td>2023-09-24</td>\n",
       "      <td>Nur Shams R.C.</td>\n",
       "      <td>Tulkarm</td>\n",
       "      <td>West Bank</td>\n",
       "    </tr>\n",
       "    <tr>\n",
       "      <th>1</th>\n",
       "      <td>Usayed Farhan Muhammad 'Ali Abu 'Ali</td>\n",
       "      <td>21.0</td>\n",
       "      <td>Palestinian</td>\n",
       "      <td>M</td>\n",
       "      <td>2023-09-24</td>\n",
       "      <td>Nur Shams R.C.</td>\n",
       "      <td>Tulkarm</td>\n",
       "      <td>West Bank</td>\n",
       "    </tr>\n",
       "    <tr>\n",
       "      <th>2</th>\n",
       "      <td>'Abdallah 'Imad Sa'ed Abu Hassan</td>\n",
       "      <td>16.0</td>\n",
       "      <td>Palestinian</td>\n",
       "      <td>M</td>\n",
       "      <td>2023-09-22</td>\n",
       "      <td>Kfar Dan</td>\n",
       "      <td>Jenin</td>\n",
       "      <td>West Bank</td>\n",
       "    </tr>\n",
       "    <tr>\n",
       "      <th>3</th>\n",
       "      <td>Durgham Muhammad Yihya al-Akhras</td>\n",
       "      <td>19.0</td>\n",
       "      <td>Palestinian</td>\n",
       "      <td>M</td>\n",
       "      <td>2023-09-20</td>\n",
       "      <td>'Aqbat Jaber R.C.</td>\n",
       "      <td>Jericho</td>\n",
       "      <td>West Bank</td>\n",
       "    </tr>\n",
       "    <tr>\n",
       "      <th>4</th>\n",
       "      <td>Raafat 'Omar Ahmad Khamaisah</td>\n",
       "      <td>15.0</td>\n",
       "      <td>Palestinian</td>\n",
       "      <td>M</td>\n",
       "      <td>2023-09-19</td>\n",
       "      <td>Jenin R.C.</td>\n",
       "      <td>Jenin</td>\n",
       "      <td>West Bank</td>\n",
       "    </tr>\n",
       "    <tr>\n",
       "      <th>...</th>\n",
       "      <td>...</td>\n",
       "      <td>...</td>\n",
       "      <td>...</td>\n",
       "      <td>...</td>\n",
       "      <td>...</td>\n",
       "      <td>...</td>\n",
       "      <td>...</td>\n",
       "      <td>...</td>\n",
       "    </tr>\n",
       "    <tr>\n",
       "      <th>11119</th>\n",
       "      <td>Binyamin Herling</td>\n",
       "      <td>64.0</td>\n",
       "      <td>Israeli</td>\n",
       "      <td>M</td>\n",
       "      <td>2000-10-19</td>\n",
       "      <td>Nablus</td>\n",
       "      <td>Nablus</td>\n",
       "      <td>West Bank</td>\n",
       "    </tr>\n",
       "    <tr>\n",
       "      <th>11120</th>\n",
       "      <td>Farid Musa 'Issa a-Nesasreh</td>\n",
       "      <td>28.0</td>\n",
       "      <td>Palestinian</td>\n",
       "      <td>M</td>\n",
       "      <td>2000-10-17</td>\n",
       "      <td>Beit Furik</td>\n",
       "      <td>Nablus</td>\n",
       "      <td>West Bank</td>\n",
       "    </tr>\n",
       "    <tr>\n",
       "      <th>11121</th>\n",
       "      <td>Hillel Lieberman</td>\n",
       "      <td>36.0</td>\n",
       "      <td>Israeli</td>\n",
       "      <td>M</td>\n",
       "      <td>2000-10-07</td>\n",
       "      <td>Nablus</td>\n",
       "      <td>Nablus</td>\n",
       "      <td>West Bank</td>\n",
       "    </tr>\n",
       "    <tr>\n",
       "      <th>11122</th>\n",
       "      <td>Fahed Mustafa 'Odeh Baker</td>\n",
       "      <td>21.0</td>\n",
       "      <td>Palestinian</td>\n",
       "      <td>M</td>\n",
       "      <td>2000-10-07</td>\n",
       "      <td>Bidya</td>\n",
       "      <td>Salfit</td>\n",
       "      <td>West Bank</td>\n",
       "    </tr>\n",
       "    <tr>\n",
       "      <th>11123</th>\n",
       "      <td>Wichlav Zalsevsky</td>\n",
       "      <td>24.0</td>\n",
       "      <td>Israeli</td>\n",
       "      <td>M</td>\n",
       "      <td>2000-10-02</td>\n",
       "      <td>Masha</td>\n",
       "      <td>Salfit</td>\n",
       "      <td>West Bank</td>\n",
       "    </tr>\n",
       "  </tbody>\n",
       "</table>\n",
       "<p>11124 rows × 8 columns</p>\n",
       "</div>"
      ],
      "text/plain": [
       "                                              name   age  citizenship gender  \\\n",
       "0      'Abd a-Rahman Suleiman Muhammad Abu Daghash  32.0  Palestinian      M   \n",
       "1             Usayed Farhan Muhammad 'Ali Abu 'Ali  21.0  Palestinian      M   \n",
       "2                 'Abdallah 'Imad Sa'ed Abu Hassan  16.0  Palestinian      M   \n",
       "3                 Durgham Muhammad Yihya al-Akhras  19.0  Palestinian      M   \n",
       "4                     Raafat 'Omar Ahmad Khamaisah  15.0  Palestinian      M   \n",
       "...                                            ...   ...          ...    ...   \n",
       "11119                             Binyamin Herling  64.0      Israeli      M   \n",
       "11120                  Farid Musa 'Issa a-Nesasreh  28.0  Palestinian      M   \n",
       "11121                             Hillel Lieberman  36.0      Israeli      M   \n",
       "11122                    Fahed Mustafa 'Odeh Baker  21.0  Palestinian      M   \n",
       "11123                            Wichlav Zalsevsky  24.0      Israeli      M   \n",
       "\n",
       "      date_of_death     event_location event_location_district  \\\n",
       "0        2023-09-24     Nur Shams R.C.                 Tulkarm   \n",
       "1        2023-09-24     Nur Shams R.C.                 Tulkarm   \n",
       "2        2023-09-22           Kfar Dan                   Jenin   \n",
       "3        2023-09-20  'Aqbat Jaber R.C.                 Jericho   \n",
       "4        2023-09-19         Jenin R.C.                   Jenin   \n",
       "...             ...                ...                     ...   \n",
       "11119    2000-10-19             Nablus                  Nablus   \n",
       "11120    2000-10-17         Beit Furik                  Nablus   \n",
       "11121    2000-10-07             Nablus                  Nablus   \n",
       "11122    2000-10-07              Bidya                  Salfit   \n",
       "11123    2000-10-02              Masha                  Salfit   \n",
       "\n",
       "      event_location_region  \n",
       "0                 West Bank  \n",
       "1                 West Bank  \n",
       "2                 West Bank  \n",
       "3                 West Bank  \n",
       "4                 West Bank  \n",
       "...                     ...  \n",
       "11119             West Bank  \n",
       "11120             West Bank  \n",
       "11121             West Bank  \n",
       "11122             West Bank  \n",
       "11123             West Bank  \n",
       "\n",
       "[11124 rows x 8 columns]"
      ]
     },
     "metadata": {},
     "output_type": "display_data"
    }
   ],
   "source": [
    "# Separando colunas que irão ser utilizadas para um outro DataFrame.\n",
    "new_df = df[['name', 'age', 'citizenship', 'gender', 'date_of_death', 'event_location', 'event_location_district', 'event_location_region']]\n",
    "display(new_df)"
   ]
  },
  {
   "cell_type": "code",
   "execution_count": 74,
   "id": "44c21ab5-d5f3-4528-945d-3c3694b047ae",
   "metadata": {},
   "outputs": [
    {
     "name": "stdout",
     "output_type": "stream",
     "text": [
      "<class 'pandas.core.frame.DataFrame'>\n",
      "RangeIndex: 11124 entries, 0 to 11123\n",
      "Data columns (total 8 columns):\n",
      " #   Column                   Non-Null Count  Dtype  \n",
      "---  ------                   --------------  -----  \n",
      " 0   name                     11124 non-null  object \n",
      " 1   age                      10995 non-null  float64\n",
      " 2   citizenship              11124 non-null  object \n",
      " 3   gender                   11104 non-null  object \n",
      " 4   date_of_death            11124 non-null  object \n",
      " 5   event_location           11124 non-null  object \n",
      " 6   event_location_district  11124 non-null  object \n",
      " 7   event_location_region    11124 non-null  object \n",
      "dtypes: float64(1), object(7)\n",
      "memory usage: 695.4+ KB\n"
     ]
    }
   ],
   "source": [
    "new_df.info()"
   ]
  },
  {
   "cell_type": "markdown",
   "id": "4aaa3b60-dbfc-4a08-b899-247c3dad1010",
   "metadata": {},
   "source": [
    "## Tratando valores nulos:"
   ]
  },
  {
   "cell_type": "code",
   "execution_count": 75,
   "id": "45ee4996-b3d9-46f4-87db-afc3237d1d89",
   "metadata": {},
   "outputs": [
    {
     "data": {
      "text/plain": [
       "name                         0\n",
       "age                        129\n",
       "citizenship                  0\n",
       "gender                      20\n",
       "date_of_death                0\n",
       "event_location               0\n",
       "event_location_district      0\n",
       "event_location_region        0\n",
       "dtype: int64"
      ]
     },
     "execution_count": 75,
     "metadata": {},
     "output_type": "execute_result"
    }
   ],
   "source": [
    "# Somando o total de registros com valores nulos\n",
    "new_df.isnull().sum()"
   ]
  },
  {
   "cell_type": "code",
   "execution_count": 76,
   "id": "ca43815b-c4fb-461e-828f-c3116661d4df",
   "metadata": {},
   "outputs": [
    {
     "name": "stderr",
     "output_type": "stream",
     "text": [
      "/tmp/ipykernel_20037/809242119.py:3: SettingWithCopyWarning:\n",
      "\n",
      "\n",
      "A value is trying to be set on a copy of a slice from a DataFrame\n",
      "\n",
      "See the caveats in the documentation: https://pandas.pydata.org/pandas-docs/stable/user_guide/indexing.html#returning-a-view-versus-a-copy\n",
      "\n"
     ]
    },
    {
     "data": {
      "text/plain": [
       "name                         0\n",
       "age                        129\n",
       "citizenship                  0\n",
       "gender                       0\n",
       "date_of_death                0\n",
       "event_location               0\n",
       "event_location_district      0\n",
       "event_location_region        0\n",
       "dtype: int64"
      ]
     },
     "execution_count": 76,
     "metadata": {},
     "output_type": "execute_result"
    }
   ],
   "source": [
    "# Ajustando os valores da coluna 'gender'\n",
    "gender_mode = new_df.gender.mode()\n",
    "new_df[\"gender\"].fillna(gender_mode[0], inplace=True)\n",
    "new_df.isnull().sum()"
   ]
  },
  {
   "cell_type": "code",
   "execution_count": 77,
   "id": "4939565f-29ec-46e3-a96c-edc8bc0e442f",
   "metadata": {},
   "outputs": [
    {
     "name": "stdout",
     "output_type": "stream",
     "text": [
      "Homens:  23\n",
      "Mulheres:  26\n"
     ]
    }
   ],
   "source": [
    "# Ajustando os valores da coluna 'age' com o valor médio de idades entre homens e mulheres.\n",
    "male_mean = round(new_df.loc[new_df[\"gender\"] == \"M\"][\"age\"].median())\n",
    "female_mean = round(new_df.loc[new_df[\"gender\"] == \"F\"][\"age\"].median())\n",
    "\n",
    "print(\"Homens: \", male_mean)\n",
    "print(\"Mulheres: \", female_mean)"
   ]
  },
  {
   "cell_type": "code",
   "execution_count": 78,
   "id": "a3b5bad3-c53e-4051-95b9-e2baa7f3093e",
   "metadata": {},
   "outputs": [
    {
     "data": {
      "text/plain": [
       "name                       0\n",
       "age                        0\n",
       "citizenship                0\n",
       "gender                     0\n",
       "date_of_death              0\n",
       "event_location             0\n",
       "event_location_district    0\n",
       "event_location_region      0\n",
       "dtype: int64"
      ]
     },
     "execution_count": 78,
     "metadata": {},
     "output_type": "execute_result"
    }
   ],
   "source": [
    "new_df.loc[new_df[\"gender\"] == 'M', 'age'] = new_df.loc[new_df[\"gender\"] == 'M',][\"age\"].fillna(male_mean)\n",
    "new_df.loc[new_df[\"gender\"] == 'F', 'age'] = new_df.loc[new_df[\"gender\"] == 'F',][\"age\"].fillna(female_mean)\n",
    "\n",
    "new_df.isnull().sum()"
   ]
  },
  {
   "cell_type": "markdown",
   "id": "52e12abb-9ca5-4b8c-8ea2-1d53e2d43614",
   "metadata": {},
   "source": [
    "## Visualizar gráficos"
   ]
  },
  {
   "cell_type": "code",
   "execution_count": 108,
   "id": "40d71dea-6882-4d4c-8e21-3b5cdda3f576",
   "metadata": {},
   "outputs": [
    {
     "name": "stderr",
     "output_type": "stream",
     "text": [
      "/tmp/ipykernel_20037/416127348.py:1: SettingWithCopyWarning:\n",
      "\n",
      "\n",
      "A value is trying to be set on a copy of a slice from a DataFrame.\n",
      "Try using .loc[row_indexer,col_indexer] = value instead\n",
      "\n",
      "See the caveats in the documentation: https://pandas.pydata.org/pandas-docs/stable/user_guide/indexing.html#returning-a-view-versus-a-copy\n",
      "\n",
      "/tmp/ipykernel_20037/416127348.py:2: SettingWithCopyWarning:\n",
      "\n",
      "\n",
      "A value is trying to be set on a copy of a slice from a DataFrame.\n",
      "Try using .loc[row_indexer,col_indexer] = value instead\n",
      "\n",
      "See the caveats in the documentation: https://pandas.pydata.org/pandas-docs/stable/user_guide/indexing.html#returning-a-view-versus-a-copy\n",
      "\n"
     ]
    },
    {
     "ename": "ValueError",
     "evalue": "All arguments should have the same length. The length of column argument `df[y]` is 51, whereas the length of  previously-processed arguments ['x'] is 1",
     "output_type": "error",
     "traceback": [
      "\u001b[0;31m---------------------------------------------------------------------------\u001b[0m",
      "\u001b[0;31mValueError\u001b[0m                                Traceback (most recent call last)",
      "Cell \u001b[0;32mIn[108], line 9\u001b[0m\n\u001b[1;32m      5\u001b[0m dataframe \u001b[38;5;241m=\u001b[39m pd\u001b[38;5;241m.\u001b[39mDataFrame(total_deaths_by_country)\n\u001b[1;32m      7\u001b[0m dataframe\n\u001b[0;32m----> 9\u001b[0m fig_total_deaths \u001b[38;5;241m=\u001b[39m \u001b[43mpx\u001b[49m\u001b[38;5;241;43m.\u001b[39;49m\u001b[43mbar\u001b[49m\u001b[43m(\u001b[49m\u001b[43mdataframe\u001b[49m\u001b[43m,\u001b[49m\u001b[43m \u001b[49m\u001b[43mx\u001b[49m\u001b[38;5;241;43m=\u001b[39;49m\u001b[43m[\u001b[49m\u001b[38;5;124;43m'\u001b[39;49m\u001b[38;5;124;43mcitizenship\u001b[39;49m\u001b[38;5;124;43m'\u001b[39;49m\u001b[43m]\u001b[49m\u001b[43m,\u001b[49m\u001b[43m \u001b[49m\u001b[43my\u001b[49m\u001b[38;5;241;43m=\u001b[39;49m\u001b[38;5;124;43m'\u001b[39;49m\u001b[38;5;124;43mcount\u001b[39;49m\u001b[38;5;124;43m'\u001b[39;49m\u001b[43m,\u001b[49m\n\u001b[1;32m     10\u001b[0m \u001b[43m                          \u001b[49m\u001b[43mcolor\u001b[49m\u001b[38;5;241;43m=\u001b[39;49m\u001b[38;5;124;43m'\u001b[39;49m\u001b[38;5;124;43myear\u001b[39;49m\u001b[38;5;124;43m'\u001b[39;49m\u001b[43m,\u001b[49m\u001b[43m \u001b[49m\u001b[43mtitle\u001b[49m\u001b[38;5;241;43m=\u001b[39;49m\u001b[38;5;124;43m'\u001b[39;49m\u001b[38;5;124;43mQuantidade de mortos por cada cidade\u001b[39;49m\u001b[38;5;124;43m'\u001b[39;49m\u001b[43m)\u001b[49m\n",
      "File \u001b[0;32m~/dataScience/myFirstProject/lib/python3.11/site-packages/plotly/express/_chart_types.py:373\u001b[0m, in \u001b[0;36mbar\u001b[0;34m(data_frame, x, y, color, pattern_shape, facet_row, facet_col, facet_col_wrap, facet_row_spacing, facet_col_spacing, hover_name, hover_data, custom_data, text, base, error_x, error_x_minus, error_y, error_y_minus, animation_frame, animation_group, category_orders, labels, color_discrete_sequence, color_discrete_map, color_continuous_scale, pattern_shape_sequence, pattern_shape_map, range_color, color_continuous_midpoint, opacity, orientation, barmode, log_x, log_y, range_x, range_y, text_auto, title, template, width, height)\u001b[0m\n\u001b[1;32m    325\u001b[0m \u001b[38;5;28;01mdef\u001b[39;00m \u001b[38;5;21mbar\u001b[39m(\n\u001b[1;32m    326\u001b[0m     data_frame\u001b[38;5;241m=\u001b[39m\u001b[38;5;28;01mNone\u001b[39;00m,\n\u001b[1;32m    327\u001b[0m     x\u001b[38;5;241m=\u001b[39m\u001b[38;5;28;01mNone\u001b[39;00m,\n\u001b[0;32m   (...)\u001b[0m\n\u001b[1;32m    367\u001b[0m     height\u001b[38;5;241m=\u001b[39m\u001b[38;5;28;01mNone\u001b[39;00m,\n\u001b[1;32m    368\u001b[0m ) \u001b[38;5;241m-\u001b[39m\u001b[38;5;241m>\u001b[39m go\u001b[38;5;241m.\u001b[39mFigure:\n\u001b[1;32m    369\u001b[0m \u001b[38;5;250m    \u001b[39m\u001b[38;5;124;03m\"\"\"\u001b[39;00m\n\u001b[1;32m    370\u001b[0m \u001b[38;5;124;03m    In a bar plot, each row of `data_frame` is represented as a rectangular\u001b[39;00m\n\u001b[1;32m    371\u001b[0m \u001b[38;5;124;03m    mark.\u001b[39;00m\n\u001b[1;32m    372\u001b[0m \u001b[38;5;124;03m    \"\"\"\u001b[39;00m\n\u001b[0;32m--> 373\u001b[0m     \u001b[38;5;28;01mreturn\u001b[39;00m \u001b[43mmake_figure\u001b[49m\u001b[43m(\u001b[49m\n\u001b[1;32m    374\u001b[0m \u001b[43m        \u001b[49m\u001b[43margs\u001b[49m\u001b[38;5;241;43m=\u001b[39;49m\u001b[38;5;28;43mlocals\u001b[39;49m\u001b[43m(\u001b[49m\u001b[43m)\u001b[49m\u001b[43m,\u001b[49m\n\u001b[1;32m    375\u001b[0m \u001b[43m        \u001b[49m\u001b[43mconstructor\u001b[49m\u001b[38;5;241;43m=\u001b[39;49m\u001b[43mgo\u001b[49m\u001b[38;5;241;43m.\u001b[39;49m\u001b[43mBar\u001b[49m\u001b[43m,\u001b[49m\n\u001b[1;32m    376\u001b[0m \u001b[43m        \u001b[49m\u001b[43mtrace_patch\u001b[49m\u001b[38;5;241;43m=\u001b[39;49m\u001b[38;5;28;43mdict\u001b[39;49m\u001b[43m(\u001b[49m\u001b[43mtextposition\u001b[49m\u001b[38;5;241;43m=\u001b[39;49m\u001b[38;5;124;43m\"\u001b[39;49m\u001b[38;5;124;43mauto\u001b[39;49m\u001b[38;5;124;43m\"\u001b[39;49m\u001b[43m)\u001b[49m\u001b[43m,\u001b[49m\n\u001b[1;32m    377\u001b[0m \u001b[43m        \u001b[49m\u001b[43mlayout_patch\u001b[49m\u001b[38;5;241;43m=\u001b[39;49m\u001b[38;5;28;43mdict\u001b[39;49m\u001b[43m(\u001b[49m\u001b[43mbarmode\u001b[49m\u001b[38;5;241;43m=\u001b[39;49m\u001b[43mbarmode\u001b[49m\u001b[43m)\u001b[49m\u001b[43m,\u001b[49m\n\u001b[1;32m    378\u001b[0m \u001b[43m    \u001b[49m\u001b[43m)\u001b[49m\n",
      "File \u001b[0;32m~/dataScience/myFirstProject/lib/python3.11/site-packages/plotly/express/_core.py:2076\u001b[0m, in \u001b[0;36mmake_figure\u001b[0;34m(args, constructor, trace_patch, layout_patch)\u001b[0m\n\u001b[1;32m   2073\u001b[0m layout_patch \u001b[38;5;241m=\u001b[39m layout_patch \u001b[38;5;129;01mor\u001b[39;00m {}\n\u001b[1;32m   2074\u001b[0m apply_default_cascade(args)\n\u001b[0;32m-> 2076\u001b[0m args \u001b[38;5;241m=\u001b[39m \u001b[43mbuild_dataframe\u001b[49m\u001b[43m(\u001b[49m\u001b[43margs\u001b[49m\u001b[43m,\u001b[49m\u001b[43m \u001b[49m\u001b[43mconstructor\u001b[49m\u001b[43m)\u001b[49m\n\u001b[1;32m   2077\u001b[0m \u001b[38;5;28;01mif\u001b[39;00m constructor \u001b[38;5;129;01min\u001b[39;00m [go\u001b[38;5;241m.\u001b[39mTreemap, go\u001b[38;5;241m.\u001b[39mSunburst, go\u001b[38;5;241m.\u001b[39mIcicle] \u001b[38;5;129;01mand\u001b[39;00m args[\u001b[38;5;124m\"\u001b[39m\u001b[38;5;124mpath\u001b[39m\u001b[38;5;124m\"\u001b[39m] \u001b[38;5;129;01mis\u001b[39;00m \u001b[38;5;129;01mnot\u001b[39;00m \u001b[38;5;28;01mNone\u001b[39;00m:\n\u001b[1;32m   2078\u001b[0m     args \u001b[38;5;241m=\u001b[39m process_dataframe_hierarchy(args)\n",
      "File \u001b[0;32m~/dataScience/myFirstProject/lib/python3.11/site-packages/plotly/express/_core.py:1485\u001b[0m, in \u001b[0;36mbuild_dataframe\u001b[0;34m(args, constructor)\u001b[0m\n\u001b[1;32m   1482\u001b[0m     args[\u001b[38;5;124m\"\u001b[39m\u001b[38;5;124mcolor\u001b[39m\u001b[38;5;124m\"\u001b[39m] \u001b[38;5;241m=\u001b[39m \u001b[38;5;28;01mNone\u001b[39;00m\n\u001b[1;32m   1483\u001b[0m \u001b[38;5;66;03m# now that things have been prepped, we do the systematic rewriting of `args`\u001b[39;00m\n\u001b[0;32m-> 1485\u001b[0m df_output, wide_id_vars \u001b[38;5;241m=\u001b[39m \u001b[43mprocess_args_into_dataframe\u001b[49m\u001b[43m(\u001b[49m\n\u001b[1;32m   1486\u001b[0m \u001b[43m    \u001b[49m\u001b[43margs\u001b[49m\u001b[43m,\u001b[49m\u001b[43m \u001b[49m\u001b[43mwide_mode\u001b[49m\u001b[43m,\u001b[49m\u001b[43m \u001b[49m\u001b[43mvar_name\u001b[49m\u001b[43m,\u001b[49m\u001b[43m \u001b[49m\u001b[43mvalue_name\u001b[49m\n\u001b[1;32m   1487\u001b[0m \u001b[43m\u001b[49m\u001b[43m)\u001b[49m\n\u001b[1;32m   1489\u001b[0m \u001b[38;5;66;03m# now that `df_output` exists and `args` contains only references, we complete\u001b[39;00m\n\u001b[1;32m   1490\u001b[0m \u001b[38;5;66;03m# the special-case and wide-mode handling by further rewriting args and/or mutating\u001b[39;00m\n\u001b[1;32m   1491\u001b[0m \u001b[38;5;66;03m# df_output\u001b[39;00m\n\u001b[1;32m   1493\u001b[0m count_name \u001b[38;5;241m=\u001b[39m _escape_col_name(df_output, \u001b[38;5;124m\"\u001b[39m\u001b[38;5;124mcount\u001b[39m\u001b[38;5;124m\"\u001b[39m, [var_name, value_name])\n",
      "File \u001b[0;32m~/dataScience/myFirstProject/lib/python3.11/site-packages/plotly/express/_core.py:1212\u001b[0m, in \u001b[0;36mprocess_args_into_dataframe\u001b[0;34m(args, wide_mode, var_name, value_name)\u001b[0m\n\u001b[1;32m   1210\u001b[0m         \u001b[38;5;28;01mraise\u001b[39;00m \u001b[38;5;167;01mValueError\u001b[39;00m(err_msg)\n\u001b[1;32m   1211\u001b[0m \u001b[38;5;28;01melif\u001b[39;00m length \u001b[38;5;129;01mand\u001b[39;00m \u001b[38;5;28mlen\u001b[39m(df_input[argument]) \u001b[38;5;241m!=\u001b[39m length:\n\u001b[0;32m-> 1212\u001b[0m     \u001b[38;5;28;01mraise\u001b[39;00m \u001b[38;5;167;01mValueError\u001b[39;00m(\n\u001b[1;32m   1213\u001b[0m         \u001b[38;5;124m\"\u001b[39m\u001b[38;5;124mAll arguments should have the same length. \u001b[39m\u001b[38;5;124m\"\u001b[39m\n\u001b[1;32m   1214\u001b[0m         \u001b[38;5;124m\"\u001b[39m\u001b[38;5;124mThe length of column argument `df[\u001b[39m\u001b[38;5;132;01m%s\u001b[39;00m\u001b[38;5;124m]` is \u001b[39m\u001b[38;5;132;01m%d\u001b[39;00m\u001b[38;5;124m, whereas the \u001b[39m\u001b[38;5;124m\"\u001b[39m\n\u001b[1;32m   1215\u001b[0m         \u001b[38;5;124m\"\u001b[39m\u001b[38;5;124mlength of  previously-processed arguments \u001b[39m\u001b[38;5;132;01m%s\u001b[39;00m\u001b[38;5;124m is \u001b[39m\u001b[38;5;132;01m%d\u001b[39;00m\u001b[38;5;124m\"\u001b[39m\n\u001b[1;32m   1216\u001b[0m         \u001b[38;5;241m%\u001b[39m (\n\u001b[1;32m   1217\u001b[0m             field,\n\u001b[1;32m   1218\u001b[0m             \u001b[38;5;28mlen\u001b[39m(df_input[argument]),\n\u001b[1;32m   1219\u001b[0m             \u001b[38;5;28mstr\u001b[39m(\u001b[38;5;28mlist\u001b[39m(df_output\u001b[38;5;241m.\u001b[39mkeys())),\n\u001b[1;32m   1220\u001b[0m             length,\n\u001b[1;32m   1221\u001b[0m         )\n\u001b[1;32m   1222\u001b[0m     )\n\u001b[1;32m   1223\u001b[0m \u001b[38;5;28;01melse\u001b[39;00m:\n\u001b[1;32m   1224\u001b[0m     col_name \u001b[38;5;241m=\u001b[39m \u001b[38;5;28mstr\u001b[39m(argument)\n",
      "\u001b[0;31mValueError\u001b[0m: All arguments should have the same length. The length of column argument `df[y]` is 51, whereas the length of  previously-processed arguments ['x'] is 1"
     ]
    }
   ],
   "source": [
    "new_df['date_of_death'] = pd.to_datetime(new_df['date_of_death'])\n",
    "new_df[\"year\"] = new_df['date_of_death'].dt.year\n",
    "\n",
    "total_deaths_by_country = new_df.groupby(\"year\")[\"citizenship\"].value_counts()\n",
    "dataframe = pd.DataFrame(total_deaths_by_country)\n",
    "\n",
    "dataframe\n",
    "\n",
    "fig_total_deaths = px.bar(dataframe, x='citizenship', y='count',\n",
    "                          color='year', title='Quantidade de mortos por cada cidade')"
   ]
  },
  {
   "cell_type": "code",
   "execution_count": null,
   "id": "040928b3-7449-4915-bf58-3207fb2ca9da",
   "metadata": {},
   "outputs": [],
   "source": []
  }
 ],
 "metadata": {
  "kernelspec": {
   "display_name": "Python 3 (ipykernel)",
   "language": "python",
   "name": "python3"
  },
  "language_info": {
   "codemirror_mode": {
    "name": "ipython",
    "version": 3
   },
   "file_extension": ".py",
   "mimetype": "text/x-python",
   "name": "python",
   "nbconvert_exporter": "python",
   "pygments_lexer": "ipython3",
   "version": "3.11.4"
  }
 },
 "nbformat": 4,
 "nbformat_minor": 5
}
